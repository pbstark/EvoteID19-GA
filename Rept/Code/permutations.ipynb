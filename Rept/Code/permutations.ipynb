{
 "cells": [
  {
   "cell_type": "markdown",
   "metadata": {},
   "source": [
    "# Investigation of anomalous undervote rate in Lt. Gov contest\n",
    "\n",
    "## P.B. Stark and Kellie Ottoboni\n",
    "\n",
    "If, within each piece of geography (county or precinct), each undervote \n",
    "in a statewide contest were equally likely to be in any of the other statewide contests (Lt. Gov, SoS, Attorney General, Commissioner of Agriculture, Commissioner of Insurance, Secretary of Labor, Superintendent of Schools), what is the chance that the highest undervote rate would be as high or higher than observed for the Lt. Gov. contest?\n",
    "\n",
    "Randomization model: within each piece of geography, each undervote is equally likely to be in any of the 7 statewide contests (not counting Governor), independently across undervotes and across geography.\n",
    "\n",
    "Test statistic: largest undervote rate across the 7 contests.\n",
    "\n",
    "Test for the entire election, and separately for Polling-Place and Vote-By-Mail.\n",
    "\n",
    "Data flow:\n",
    "\n",
    "+ for each piece of geography, determine the total number of ballots cast from <ElectionVoterTurnout />\n",
    "    - subtract total votes in each of the 7 contests from the number of ballots cast to get the number of undervotes in each of the contests in each piece of geography\n",
    "    - pool the 7 contests to get the total number of undervotes for that piece of geography\n",
    "    - aggregate over geography to get the total number of undervotes in each of the 7 contests, and the maximum undervote rate\n",
    "+ Test\n",
    "    - in each piece of geography, randomly assign each undervote a label of 1--7\n",
    "    - aggregate across geography\n",
    "    - record maximum undervote rate across the 7 contests"
   ]
  },
  {
   "cell_type": "code",
   "execution_count": 1,
   "metadata": {},
   "outputs": [],
   "source": [
    "%matplotlib inline\n",
    "import math\n",
    "import numpy as np\n",
    "import scipy as sp\n",
    "import scipy.optimize\n",
    "from scipy.stats import hypergeom, binom, norm\n",
    "from scipy import special\n",
    "from cryptorandom.cryptorandom import SHA256\n",
    "from cryptorandom import sample\n",
    "from permute.utils import binom_conf_interval\n",
    "import matplotlib.pyplot as plt\n",
    "import pandas as pd\n",
    "from lxml import etree\n",
    "import csv\n",
    "\n",
    "reps = 100"
   ]
  },
  {
   "cell_type": "code",
   "execution_count": 2,
   "metadata": {},
   "outputs": [
    {
     "data": {
      "text/html": [
       "<div>\n",
       "<style scoped>\n",
       "    .dataframe tbody tr th:only-of-type {\n",
       "        vertical-align: middle;\n",
       "    }\n",
       "\n",
       "    .dataframe tbody tr th {\n",
       "        vertical-align: top;\n",
       "    }\n",
       "\n",
       "    .dataframe thead th {\n",
       "        text-align: right;\n",
       "    }\n",
       "</style>\n",
       "<table border=\"1\" class=\"dataframe\">\n",
       "  <thead>\n",
       "    <tr style=\"text-align: right;\">\n",
       "      <th></th>\n",
       "      <th>County</th>\n",
       "      <th>Vote type</th>\n",
       "      <th>Total ballots</th>\n",
       "      <th>Contest</th>\n",
       "      <th>Ballots cast</th>\n",
       "      <th>Undervotes</th>\n",
       "    </tr>\n",
       "  </thead>\n",
       "  <tbody>\n",
       "    <tr>\n",
       "      <th>0</th>\n",
       "      <td>Appling</td>\n",
       "      <td>Absentee by Mail</td>\n",
       "      <td>530</td>\n",
       "      <td>Lieutenant Governor</td>\n",
       "      <td>523</td>\n",
       "      <td>7</td>\n",
       "    </tr>\n",
       "    <tr>\n",
       "      <th>1</th>\n",
       "      <td>Appling</td>\n",
       "      <td>Advance in Person</td>\n",
       "      <td>3298</td>\n",
       "      <td>Lieutenant Governor</td>\n",
       "      <td>3092</td>\n",
       "      <td>206</td>\n",
       "    </tr>\n",
       "    <tr>\n",
       "      <th>2</th>\n",
       "      <td>Appling</td>\n",
       "      <td>Election Day</td>\n",
       "      <td>2978</td>\n",
       "      <td>Lieutenant Governor</td>\n",
       "      <td>2768</td>\n",
       "      <td>210</td>\n",
       "    </tr>\n",
       "    <tr>\n",
       "      <th>3</th>\n",
       "      <td>Appling</td>\n",
       "      <td>Provisional</td>\n",
       "      <td>3</td>\n",
       "      <td>Lieutenant Governor</td>\n",
       "      <td>3</td>\n",
       "      <td>0</td>\n",
       "    </tr>\n",
       "    <tr>\n",
       "      <th>4</th>\n",
       "      <td>Atkinson</td>\n",
       "      <td>Absentee by Mail</td>\n",
       "      <td>88</td>\n",
       "      <td>Lieutenant Governor</td>\n",
       "      <td>88</td>\n",
       "      <td>0</td>\n",
       "    </tr>\n",
       "  </tbody>\n",
       "</table>\n",
       "</div>"
      ],
      "text/plain": [
       "     County          Vote type  Total ballots              Contest  \\\n",
       "0   Appling   Absentee by Mail            530  Lieutenant Governor   \n",
       "1   Appling  Advance in Person           3298  Lieutenant Governor   \n",
       "2   Appling       Election Day           2978  Lieutenant Governor   \n",
       "3   Appling        Provisional              3  Lieutenant Governor   \n",
       "4  Atkinson   Absentee by Mail             88  Lieutenant Governor   \n",
       "\n",
       "   Ballots cast  Undervotes  \n",
       "0           523           7  \n",
       "1          3092         206  \n",
       "2          2768         210  \n",
       "3             3           0  \n",
       "4            88           0  "
      ]
     },
     "execution_count": 2,
     "metadata": {},
     "output_type": "execute_result"
    }
   ],
   "source": [
    "statewide_contests = np.array([\"Lieutenant Governor\", \"Secretary Of State\", \\\n",
    "                               \"Attorney General\", \"Commissioner Of Agriculture\", \\\n",
    "                               \"Commissioner Of Insurance\", \"State School Superintendent\", \"Commissioner Of Labor\"])\n",
    "\n",
    "votes = pd.read_csv('../../Data/undervotes_by_county.csv')\n",
    "votes.head()"
   ]
  },
  {
   "cell_type": "code",
   "execution_count": 3,
   "metadata": {},
   "outputs": [
    {
     "data": {
      "text/html": [
       "<div>\n",
       "<style scoped>\n",
       "    .dataframe tbody tr th:only-of-type {\n",
       "        vertical-align: middle;\n",
       "    }\n",
       "\n",
       "    .dataframe tbody tr th {\n",
       "        vertical-align: top;\n",
       "    }\n",
       "\n",
       "    .dataframe thead th {\n",
       "        text-align: right;\n",
       "    }\n",
       "</style>\n",
       "<table border=\"1\" class=\"dataframe\">\n",
       "  <thead>\n",
       "    <tr style=\"text-align: right;\">\n",
       "      <th></th>\n",
       "      <th>County</th>\n",
       "      <th>Contest</th>\n",
       "      <th>Total ballots</th>\n",
       "      <th>Ballots cast</th>\n",
       "      <th>Undervotes</th>\n",
       "    </tr>\n",
       "  </thead>\n",
       "  <tbody>\n",
       "    <tr>\n",
       "      <th>0</th>\n",
       "      <td>Appling</td>\n",
       "      <td>Attorney General</td>\n",
       "      <td>6809</td>\n",
       "      <td>6562</td>\n",
       "      <td>247</td>\n",
       "    </tr>\n",
       "    <tr>\n",
       "      <th>1</th>\n",
       "      <td>Appling</td>\n",
       "      <td>Commissioner Of Agriculture</td>\n",
       "      <td>6809</td>\n",
       "      <td>6577</td>\n",
       "      <td>232</td>\n",
       "    </tr>\n",
       "    <tr>\n",
       "      <th>2</th>\n",
       "      <td>Appling</td>\n",
       "      <td>Commissioner Of Insurance</td>\n",
       "      <td>6809</td>\n",
       "      <td>6607</td>\n",
       "      <td>202</td>\n",
       "    </tr>\n",
       "    <tr>\n",
       "      <th>3</th>\n",
       "      <td>Appling</td>\n",
       "      <td>Commissioner Of Labor</td>\n",
       "      <td>6809</td>\n",
       "      <td>6592</td>\n",
       "      <td>217</td>\n",
       "    </tr>\n",
       "    <tr>\n",
       "      <th>4</th>\n",
       "      <td>Appling</td>\n",
       "      <td>Lieutenant Governor</td>\n",
       "      <td>6809</td>\n",
       "      <td>6386</td>\n",
       "      <td>423</td>\n",
       "    </tr>\n",
       "  </tbody>\n",
       "</table>\n",
       "</div>"
      ],
      "text/plain": [
       "    County                      Contest  Total ballots  Ballots cast  \\\n",
       "0  Appling             Attorney General           6809          6562   \n",
       "1  Appling  Commissioner Of Agriculture           6809          6577   \n",
       "2  Appling    Commissioner Of Insurance           6809          6607   \n",
       "3  Appling        Commissioner Of Labor           6809          6592   \n",
       "4  Appling          Lieutenant Governor           6809          6386   \n",
       "\n",
       "   Undervotes  \n",
       "0         247  \n",
       "1         232  \n",
       "2         202  \n",
       "3         217  \n",
       "4         423  "
      ]
     },
     "execution_count": 3,
     "metadata": {},
     "output_type": "execute_result"
    }
   ],
   "source": [
    "total_votes = votes.groupby([\"County\", \"Contest\"]).agg(np.sum)\n",
    "total_votes = total_votes.reset_index()\n",
    "total_votes.head()"
   ]
  },
  {
   "cell_type": "markdown",
   "metadata": {},
   "source": [
    "## Calculate the number of undervotes in each county"
   ]
  },
  {
   "cell_type": "code",
   "execution_count": 4,
   "metadata": {},
   "outputs": [],
   "source": [
    "def calculate_undervotes_by_geography(df, geography_name):\n",
    "    geog_undervotes = df.groupby([geography_name]).agg({'Undervotes' : 'sum',\n",
    "                                                     'Total ballots' : lambda x: x.iloc[0]})\n",
    "    geog_undervotes = geog_undervotes.reset_index()\n",
    "    return geog_undervotes"
   ]
  },
  {
   "cell_type": "code",
   "execution_count": 5,
   "metadata": {},
   "outputs": [],
   "source": [
    "undervote_totals = calculate_undervotes_by_geography(total_votes, \"County\")"
   ]
  },
  {
   "cell_type": "markdown",
   "metadata": {},
   "source": [
    "## Test statistics"
   ]
  },
  {
   "cell_type": "code",
   "execution_count": 6,
   "metadata": {},
   "outputs": [],
   "source": [
    "def calculate_max_undervote_rate(df):\n",
    "    statewide_votes = df.groupby([\"Contest\"]).agg(np.sum)\n",
    "    rates = statewide_votes[\"Undervotes\"]/statewide_votes[\"Total ballots\"]\n",
    "    return np.max(rates)\n",
    "\n",
    "\n",
    "def calculate_max_reversal2(undervotes):\n",
    "    return np.max(np.diff(np.flip(undervotes)))\n",
    "\n",
    "def calculate_max_reversal(undervotes):\n",
    "    maxu = 0\n",
    "    u = len(undervotes)\n",
    "    for i in range(u): \n",
    "        for j in range(i+1, u): \n",
    "            maxu = np.max([maxu, undervotes[i]-undervotes[j]])\n",
    "    return maxu\n",
    "\n",
    "\n",
    "def calculate_correlation(undervotes):\n",
    "    return np.corrcoef(undervotes, np.arange(1, len(undervotes)+1))[0,1]"
   ]
  },
  {
   "cell_type": "markdown",
   "metadata": {},
   "source": [
    "## Function to randomly allocate undervotes and compute a statistic"
   ]
  },
  {
   "cell_type": "code",
   "execution_count": 7,
   "metadata": {},
   "outputs": [],
   "source": [
    "def permute_undervotes(total_votes_df, geography_name=\"County\", prng=np.random):\n",
    "    statewide_contests = np.array([\"Lieutenant Governor\", \"Secretary Of State\", \\\n",
    "                                   \"Attorney General\", \"Commissioner Of Agriculture\", \\\n",
    "                                   \"Commissioner Of Insurance\", \"State School Superintendent\", \"Commissioner Of Labor\"])\n",
    "    undervote_totals = calculate_undervotes_by_geography(total_votes_df, \"County\")\n",
    "    \n",
    "    permuted_undervotes = np.zeros(7)\n",
    "    \n",
    "    # Loop over geographic units\n",
    "    for index, row in undervote_totals.iterrows():\n",
    "        N = row[\"Total ballots\"]\n",
    "        slots = np.repeat(np.arange(7), N)\n",
    "        \n",
    "        # in each geog. unit, randomly allocate the U undervotes to each of 7 contests\n",
    "        random_contests = sample.random_sample(slots, row[\"Undervotes\"], replace=False, prng=prng)\n",
    "        for i in range(len(statewide_contests)):\n",
    "            tot = np.sum(random_contests == i)\n",
    "            permuted_undervotes[i] += tot\n",
    "\n",
    "    # Calculate the largest reversal U_i - U_j, for i < j\n",
    "    return calculate_max_reversal(permuted_undervotes)"
   ]
  },
  {
   "cell_type": "markdown",
   "metadata": {},
   "source": [
    "## Initialize the pseudo-random number generator"
   ]
  },
  {
   "cell_type": "code",
   "execution_count": 8,
   "metadata": {},
   "outputs": [],
   "source": [
    "#seed = '2018CV313418 3463593937'  # case caption number [space] 10 rolls of 10-sided dice\n",
    "#prng = SHA256(seed)\n",
    "\n",
    "seed = 1234\n",
    "prng = np.random\n",
    "np.random.seed(seed)"
   ]
  },
  {
   "cell_type": "markdown",
   "metadata": {},
   "source": [
    "# Results for the entire election"
   ]
  },
  {
   "cell_type": "code",
   "execution_count": 9,
   "metadata": {},
   "outputs": [
    {
     "name": "stdout",
     "output_type": "stream",
     "text": [
      "Lieutenant Governor 159038\n",
      "Secretary Of State 55748\n",
      "Attorney General 76972\n",
      "Commissioner Of Agriculture 95862\n",
      "Commissioner Of Insurance 77717\n",
      "State School Superintendent 76878\n",
      "Commissioner Of Labor 89892\n",
      "Max reversal: 103290\n"
     ]
    }
   ],
   "source": [
    "undervotes_observed = [np.sum(votes.loc[votes[\"Contest\"]==statewide_contests[i], \"Undervotes\"]) \\\n",
    "                       for i in range(7)]\n",
    "for i in range(7):\n",
    "    print(statewide_contests[i], undervotes_observed[i])\n",
    "tst = calculate_max_reversal(undervotes_observed)\n",
    "print(\"Max reversal:\", tst)"
   ]
  },
  {
   "cell_type": "code",
   "execution_count": 10,
   "metadata": {},
   "outputs": [],
   "source": [
    "perm_distribution = [permute_undervotes(total_votes, geography_name=\"County\", prng=prng) for i in range(reps)]"
   ]
  },
  {
   "cell_type": "code",
   "execution_count": 11,
   "metadata": {},
   "outputs": [
    {
     "data": {
      "image/png": "[encoded data removed]",
      "text/plain": [
       "<Figure size 432x288 with 1 Axes>"
      ]
     },
     "metadata": {
      "needs_background": "light"
     },
     "output_type": "display_data"
    },
    {
     "data": {
      "text/plain": [
       "0.009900990099009901"
      ]
     },
     "execution_count": 11,
     "metadata": {},
     "output_type": "execute_result"
    }
   ],
   "source": [
    "plt.hist(perm_distribution)\n",
    "plt.show()\n",
    "\n",
    "(1+np.sum(perm_distribution >= tst))/(reps+1)"
   ]
  },
  {
   "cell_type": "markdown",
   "metadata": {},
   "source": [
    "# Results for the absentee votes"
   ]
  },
  {
   "cell_type": "code",
   "execution_count": 12,
   "metadata": {},
   "outputs": [],
   "source": [
    "absentee_votes = votes[votes[\"Vote type\"]==\"Absentee by Mail\"]\n",
    "absentee_votes = absentee_votes.copy()"
   ]
  },
  {
   "cell_type": "code",
   "execution_count": 13,
   "metadata": {},
   "outputs": [
    {
     "name": "stdout",
     "output_type": "stream",
     "text": [
      "Lieutenant Governor 2244\n",
      "Secretary Of State 3066\n",
      "Attorney General 3788\n",
      "Commissioner Of Agriculture 4543\n",
      "Commissioner Of Insurance 3758\n",
      "State School Superintendent 4735\n",
      "Commissioner Of Labor 5523\n",
      "Max reversal: 785\n"
     ]
    }
   ],
   "source": [
    "undervotes_observed_abs = [np.sum(absentee_votes.loc[absentee_votes[\"Contest\"]==statewide_contests[i], \"Undervotes\"]) \\\n",
    "                       for i in range(7)]\n",
    "for i in range(7):\n",
    "    print(statewide_contests[i], undervotes_observed_abs[i])\n",
    "tst_abs = calculate_max_reversal(undervotes_observed_abs)\n",
    "print(\"Max reversal:\", tst_abs)"
   ]
  },
  {
   "cell_type": "code",
   "execution_count": 14,
   "metadata": {},
   "outputs": [],
   "source": [
    "perm_distribution_abs = [permute_undervotes(absentee_votes, geography_name=\"County\", prng=prng) for i in range(reps)]"
   ]
  },
  {
   "cell_type": "code",
   "execution_count": 15,
   "metadata": {},
   "outputs": [
    {
     "data": {
      "image/png": "[encoded data removed]",
      "text/plain": [
       "<Figure size 432x288 with 1 Axes>"
      ]
     },
     "metadata": {
      "needs_background": "light"
     },
     "output_type": "display_data"
    },
    {
     "data": {
      "text/plain": [
       "0.009900990099009901"
      ]
     },
     "execution_count": 15,
     "metadata": {},
     "output_type": "execute_result"
    }
   ],
   "source": [
    "plt.hist(perm_distribution_abs)\n",
    "plt.show()\n",
    "\n",
    "(1+np.sum(perm_distribution_abs >= tst_abs))/(reps+1)"
   ]
  },
  {
   "cell_type": "markdown",
   "metadata": {},
   "source": [
    "# Results for the election day votes"
   ]
  },
  {
   "cell_type": "code",
   "execution_count": 16,
   "metadata": {},
   "outputs": [],
   "source": [
    "electionday_votes = votes[votes[\"Vote type\"]==\"Election Day\"]\n",
    "electionday_votes = electionday_votes.copy()"
   ]
  },
  {
   "cell_type": "code",
   "execution_count": 17,
   "metadata": {},
   "outputs": [
    {
     "name": "stdout",
     "output_type": "stream",
     "text": [
      "Lieutenant Governor 82293\n",
      "Secretary Of State 27531\n",
      "Attorney General 39451\n",
      "Commissioner Of Agriculture 50152\n",
      "Commissioner Of Insurance 41017\n",
      "State School Superintendent 40077\n",
      "Commissioner Of Labor 47062\n",
      "Max reversal: 54762\n"
     ]
    }
   ],
   "source": [
    "undervotes_observed_ed = [np.sum(electionday_votes.loc[electionday_votes[\"Contest\"]==statewide_contests[i], \"Undervotes\"]) \\\n",
    "                       for i in range(7)]\n",
    "for i in range(7):\n",
    "    print(statewide_contests[i], undervotes_observed_ed[i])\n",
    "tst_ed = calculate_max_reversal(undervotes_observed_ed)\n",
    "print(\"Max reversal:\", tst_ed)"
   ]
  },
  {
   "cell_type": "code",
   "execution_count": 18,
   "metadata": {},
   "outputs": [],
   "source": [
    "perm_distribution_ed = [permute_undervotes(electionday_votes, geography_name=\"County\", prng=prng) for i in range(reps)]"
   ]
  },
  {
   "cell_type": "code",
   "execution_count": 19,
   "metadata": {},
   "outputs": [
    {
     "data": {
      "image/png": "[encoded data removed]",
      "text/plain": [
       "<Figure size 432x288 with 1 Axes>"
      ]
     },
     "metadata": {
      "needs_background": "light"
     },
     "output_type": "display_data"
    },
    {
     "data": {
      "text/plain": [
       "0.009900990099009901"
      ]
     },
     "execution_count": 19,
     "metadata": {},
     "output_type": "execute_result"
    }
   ],
   "source": [
    "plt.hist(perm_distribution_ed)\n",
    "plt.show()\n",
    "\n",
    "(1+np.sum(perm_distribution_ed >= tst_ed))/(reps+1)"
   ]
  },
  {
   "cell_type": "markdown",
   "metadata": {},
   "source": [
    "# Repeat everything with the 2014 data"
   ]
  },
  {
   "cell_type": "code",
   "execution_count": 20,
   "metadata": {},
   "outputs": [
    {
     "data": {
      "text/html": [
       "<div>\n",
       "<style scoped>\n",
       "    .dataframe tbody tr th:only-of-type {\n",
       "        vertical-align: middle;\n",
       "    }\n",
       "\n",
       "    .dataframe tbody tr th {\n",
       "        vertical-align: top;\n",
       "    }\n",
       "\n",
       "    .dataframe thead th {\n",
       "        text-align: right;\n",
       "    }\n",
       "</style>\n",
       "<table border=\"1\" class=\"dataframe\">\n",
       "  <thead>\n",
       "    <tr style=\"text-align: right;\">\n",
       "      <th></th>\n",
       "      <th>County</th>\n",
       "      <th>Vote type</th>\n",
       "      <th>Total ballots</th>\n",
       "      <th>Contest</th>\n",
       "      <th>Ballots cast</th>\n",
       "      <th>Undervotes</th>\n",
       "    </tr>\n",
       "  </thead>\n",
       "  <tbody>\n",
       "    <tr>\n",
       "      <th>0</th>\n",
       "      <td>Appling</td>\n",
       "      <td>Absentee by Mail</td>\n",
       "      <td>306</td>\n",
       "      <td>Lieutenant Governor</td>\n",
       "      <td>302</td>\n",
       "      <td>4</td>\n",
       "    </tr>\n",
       "    <tr>\n",
       "      <th>1</th>\n",
       "      <td>Appling</td>\n",
       "      <td>Advance in Person</td>\n",
       "      <td>976</td>\n",
       "      <td>Lieutenant Governor</td>\n",
       "      <td>970</td>\n",
       "      <td>6</td>\n",
       "    </tr>\n",
       "    <tr>\n",
       "      <th>2</th>\n",
       "      <td>Appling</td>\n",
       "      <td>Election Day</td>\n",
       "      <td>3122</td>\n",
       "      <td>Lieutenant Governor</td>\n",
       "      <td>3073</td>\n",
       "      <td>49</td>\n",
       "    </tr>\n",
       "    <tr>\n",
       "      <th>3</th>\n",
       "      <td>Appling</td>\n",
       "      <td>Provisional</td>\n",
       "      <td>4</td>\n",
       "      <td>Lieutenant Governor</td>\n",
       "      <td>4</td>\n",
       "      <td>0</td>\n",
       "    </tr>\n",
       "    <tr>\n",
       "      <th>4</th>\n",
       "      <td>Atkinson</td>\n",
       "      <td>Absentee by Mail</td>\n",
       "      <td>68</td>\n",
       "      <td>Lieutenant Governor</td>\n",
       "      <td>66</td>\n",
       "      <td>2</td>\n",
       "    </tr>\n",
       "  </tbody>\n",
       "</table>\n",
       "</div>"
      ],
      "text/plain": [
       "     County          Vote type  Total ballots              Contest  \\\n",
       "0   Appling   Absentee by Mail            306  Lieutenant Governor   \n",
       "1   Appling  Advance in Person            976  Lieutenant Governor   \n",
       "2   Appling       Election Day           3122  Lieutenant Governor   \n",
       "3   Appling        Provisional              4  Lieutenant Governor   \n",
       "4  Atkinson   Absentee by Mail             68  Lieutenant Governor   \n",
       "\n",
       "   Ballots cast  Undervotes  \n",
       "0           302           4  \n",
       "1           970           6  \n",
       "2          3073          49  \n",
       "3             4           0  \n",
       "4            66           2  "
      ]
     },
     "execution_count": 20,
     "metadata": {},
     "output_type": "execute_result"
    }
   ],
   "source": [
    "votes_2014 = pd.read_csv('../../Data/undervotes_by_county_2014.csv')\n",
    "votes_2014.head()"
   ]
  },
  {
   "cell_type": "code",
   "execution_count": 21,
   "metadata": {},
   "outputs": [
    {
     "data": {
      "text/html": [
       "<div>\n",
       "<style scoped>\n",
       "    .dataframe tbody tr th:only-of-type {\n",
       "        vertical-align: middle;\n",
       "    }\n",
       "\n",
       "    .dataframe tbody tr th {\n",
       "        vertical-align: top;\n",
       "    }\n",
       "\n",
       "    .dataframe thead th {\n",
       "        text-align: right;\n",
       "    }\n",
       "</style>\n",
       "<table border=\"1\" class=\"dataframe\">\n",
       "  <thead>\n",
       "    <tr style=\"text-align: right;\">\n",
       "      <th></th>\n",
       "      <th>County</th>\n",
       "      <th>Contest</th>\n",
       "      <th>Total ballots</th>\n",
       "      <th>Ballots cast</th>\n",
       "      <th>Undervotes</th>\n",
       "    </tr>\n",
       "  </thead>\n",
       "  <tbody>\n",
       "    <tr>\n",
       "      <th>0</th>\n",
       "      <td>Appling</td>\n",
       "      <td>Attorney General</td>\n",
       "      <td>4408</td>\n",
       "      <td>4362</td>\n",
       "      <td>46</td>\n",
       "    </tr>\n",
       "    <tr>\n",
       "      <th>1</th>\n",
       "      <td>Appling</td>\n",
       "      <td>Commissioner Of Agriculture</td>\n",
       "      <td>4408</td>\n",
       "      <td>4373</td>\n",
       "      <td>35</td>\n",
       "    </tr>\n",
       "    <tr>\n",
       "      <th>2</th>\n",
       "      <td>Appling</td>\n",
       "      <td>Commissioner Of Insurance</td>\n",
       "      <td>4408</td>\n",
       "      <td>4341</td>\n",
       "      <td>67</td>\n",
       "    </tr>\n",
       "    <tr>\n",
       "      <th>3</th>\n",
       "      <td>Appling</td>\n",
       "      <td>Commissioner Of Labor</td>\n",
       "      <td>4408</td>\n",
       "      <td>4366</td>\n",
       "      <td>42</td>\n",
       "    </tr>\n",
       "    <tr>\n",
       "      <th>4</th>\n",
       "      <td>Appling</td>\n",
       "      <td>Lieutenant Governor</td>\n",
       "      <td>4408</td>\n",
       "      <td>4349</td>\n",
       "      <td>59</td>\n",
       "    </tr>\n",
       "  </tbody>\n",
       "</table>\n",
       "</div>"
      ],
      "text/plain": [
       "    County                      Contest  Total ballots  Ballots cast  \\\n",
       "0  Appling             Attorney General           4408          4362   \n",
       "1  Appling  Commissioner Of Agriculture           4408          4373   \n",
       "2  Appling    Commissioner Of Insurance           4408          4341   \n",
       "3  Appling        Commissioner Of Labor           4408          4366   \n",
       "4  Appling          Lieutenant Governor           4408          4349   \n",
       "\n",
       "   Undervotes  \n",
       "0          46  \n",
       "1          35  \n",
       "2          67  \n",
       "3          42  \n",
       "4          59  "
      ]
     },
     "execution_count": 21,
     "metadata": {},
     "output_type": "execute_result"
    }
   ],
   "source": [
    "total_votes_2014 = votes_2014.groupby([\"County\", \"Contest\"]).agg(np.sum)\n",
    "total_votes_2014 = total_votes_2014.reset_index()\n",
    "total_votes_2014.head()"
   ]
  },
  {
   "cell_type": "code",
   "execution_count": 22,
   "metadata": {},
   "outputs": [],
   "source": [
    "undervote_totals_2014 = calculate_undervotes_by_geography(total_votes_2014, \"County\")"
   ]
  },
  {
   "cell_type": "markdown",
   "metadata": {},
   "source": [
    "## Results for the entire 2014 election"
   ]
  },
  {
   "cell_type": "code",
   "execution_count": 23,
   "metadata": {},
   "outputs": [
    {
     "name": "stdout",
     "output_type": "stream",
     "text": [
      "Lieutenant Governor 23228\n",
      "Secretary Of State 24635\n",
      "Attorney General 28035\n",
      "Commissioner Of Agriculture 42912\n",
      "Commissioner Of Insurance 32429\n",
      "State School Superintendent 28399\n",
      "Commissioner Of Labor 44730\n",
      "Max reversal: 14513\n"
     ]
    }
   ],
   "source": [
    "undervotes_observed_2014 = [np.sum(votes_2014.loc[votes[\"Contest\"]==statewide_contests[i], \"Undervotes\"]) \\\n",
    "                       for i in range(7)]\n",
    "for i in range(7):\n",
    "    print(statewide_contests[i], undervotes_observed_2014[i])\n",
    "tst_2014 = calculate_max_reversal(undervotes_observed_2014)\n",
    "print(\"Max reversal:\", tst_2014)"
   ]
  },
  {
   "cell_type": "code",
   "execution_count": 24,
   "metadata": {},
   "outputs": [],
   "source": [
    "perm_distribution_2014 = [permute_undervotes(total_votes_2014, geography_name=\"County\", prng=prng) for i in range(reps)]"
   ]
  },
  {
   "cell_type": "code",
   "execution_count": 25,
   "metadata": {},
   "outputs": [
    {
     "data": {
      "image/png": "[encoded data removed]",
      "text/plain": [
       "<Figure size 432x288 with 1 Axes>"
      ]
     },
     "metadata": {
      "needs_background": "light"
     },
     "output_type": "display_data"
    },
    {
     "data": {
      "text/plain": [
       "0.009900990099009901"
      ]
     },
     "execution_count": 25,
     "metadata": {},
     "output_type": "execute_result"
    }
   ],
   "source": [
    "plt.hist(perm_distribution_2014)\n",
    "plt.show()\n",
    "\n",
    "(1+np.sum(perm_distribution_2014 >= tst_2014))/(reps+1)"
   ]
  },
  {
   "cell_type": "markdown",
   "metadata": {},
   "source": [
    "## Results for the 2014 absentee votes"
   ]
  },
  {
   "cell_type": "code",
   "execution_count": 26,
   "metadata": {},
   "outputs": [],
   "source": [
    "absentee_votes_2014 = votes_2014[votes_2014[\"Vote type\"]==\"Absentee by Mail\"]\n",
    "absentee_votes_2014 = absentee_votes_2014.copy()"
   ]
  },
  {
   "cell_type": "code",
   "execution_count": 27,
   "metadata": {},
   "outputs": [
    {
     "name": "stdout",
     "output_type": "stream",
     "text": [
      "Lieutenant Governor 1283\n",
      "Secretary Of State 1855\n",
      "Attorney General 2158\n",
      "Commissioner Of Agriculture 2751\n",
      "Commissioner Of Insurance 2537\n",
      "State School Superintendent 2554\n",
      "Commissioner Of Labor 3226\n",
      "Max reversal: 214\n"
     ]
    }
   ],
   "source": [
    "undervotes_observed_abs_2014 = [np.sum(absentee_votes_2014.loc[absentee_votes_2014[\"Contest\"]==statewide_contests[i], \\\n",
    "                                                               \"Undervotes\"]) for i in range(7)]\n",
    "for i in range(7):\n",
    "    print(statewide_contests[i], undervotes_observed_abs_2014[i])\n",
    "tst_abs_2014 = calculate_max_reversal(undervotes_observed_abs_2014)\n",
    "print(\"Max reversal:\", tst_abs_2014)"
   ]
  },
  {
   "cell_type": "code",
   "execution_count": 28,
   "metadata": {},
   "outputs": [],
   "source": [
    "perm_distribution_abs_2014 = [permute_undervotes(absentee_votes_2014, geography_name=\"County\", prng=prng) \\\n",
    "                              for i in range(reps)]"
   ]
  },
  {
   "cell_type": "code",
   "execution_count": 29,
   "metadata": {},
   "outputs": [
    {
     "data": {
      "image/png": "[encoded data removed]",
      "text/plain": [
       "<Figure size 432x288 with 1 Axes>"
      ]
     },
     "metadata": {
      "needs_background": "light"
     },
     "output_type": "display_data"
    },
    {
     "data": {
      "text/plain": [
       "0.009900990099009901"
      ]
     },
     "execution_count": 29,
     "metadata": {},
     "output_type": "execute_result"
    }
   ],
   "source": [
    "plt.hist(perm_distribution_abs_2014)\n",
    "plt.show()\n",
    "\n",
    "(1+np.sum(perm_distribution_abs_2014 >= tst_abs_2014))/(reps+1)"
   ]
  },
  {
   "cell_type": "markdown",
   "metadata": {},
   "source": [
    "## Results for the 2014 election day votes"
   ]
  },
  {
   "cell_type": "code",
   "execution_count": 30,
   "metadata": {},
   "outputs": [],
   "source": [
    "electionday_votes_2014 = votes_2014[votes_2014[\"Vote type\"]==\"Election Day\"]\n",
    "electionday_votes_2014 = electionday_votes_2014.copy()"
   ]
  },
  {
   "cell_type": "code",
   "execution_count": 31,
   "metadata": {},
   "outputs": [
    {
     "name": "stdout",
     "output_type": "stream",
     "text": [
      "Lieutenant Governor 15106\n",
      "Secretary Of State 16374\n",
      "Attorney General 18324\n",
      "Commissioner Of Agriculture 26828\n",
      "Commissioner Of Insurance 21500\n",
      "State School Superintendent 18787\n",
      "Commissioner Of Labor 30206\n",
      "Max reversal: 8041\n"
     ]
    }
   ],
   "source": [
    "undervotes_observed_ed_2014 = [np.sum(electionday_votes_2014.loc[electionday_votes_2014[\"Contest\"]==statewide_contests[i], \\\n",
    "                                                                 \"Undervotes\"]) for i in range(7)]\n",
    "for i in range(7):\n",
    "    print(statewide_contests[i], undervotes_observed_ed_2014[i])\n",
    "tst_ed_2014 = calculate_max_reversal(undervotes_observed_ed_2014)\n",
    "print(\"Max reversal:\", tst_ed_2014)"
   ]
  },
  {
   "cell_type": "code",
   "execution_count": 32,
   "metadata": {},
   "outputs": [],
   "source": [
    "perm_distribution_ed_2014 = [permute_undervotes(electionday_votes_2014, geography_name=\"County\", prng=prng) \\\n",
    "                             for i in range(reps)]"
   ]
  },
  {
   "cell_type": "code",
   "execution_count": 33,
   "metadata": {},
   "outputs": [
    {
     "data": {
      "image/png": "[encoded data removed]",
      "text/plain": [
       "<Figure size 432x288 with 1 Axes>"
      ]
     },
     "metadata": {
      "needs_background": "light"
     },
     "output_type": "display_data"
    },
    {
     "data": {
      "text/plain": [
       "0.009900990099009901"
      ]
     },
     "execution_count": 33,
     "metadata": {},
     "output_type": "execute_result"
    }
   ],
   "source": [
    "plt.hist(perm_distribution_ed_2014)\n",
    "plt.show()\n",
    "\n",
    "(1+np.sum(perm_distribution_ed_2014 >= tst_ed_2014))/(reps+1)"
   ]
  }
 ],
 "metadata": {
  "kernelspec": {
   "display_name": "Python 3",
   "language": "python",
   "name": "python3"
  },
  "language_info": {
   "codemirror_mode": {
    "name": "ipython",
    "version": 3
   },
   "file_extension": ".py",
   "mimetype": "text/x-python",
   "name": "python",
   "nbconvert_exporter": "python",
   "pygments_lexer": "ipython3",
   "version": "3.7.1"
  }
 },
 "nbformat": 4,
 "nbformat_minor": 2
}
