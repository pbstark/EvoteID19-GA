{
 "cells": [
  {
   "cell_type": "markdown",
   "metadata": {},
   "source": [
    "# Pre-processing Georgia XML County-level Election Data"
   ]
  },
  {
   "cell_type": "code",
   "execution_count": 1,
   "metadata": {},
   "outputs": [],
   "source": [
    "%matplotlib inline\n",
    "import math\n",
    "import numpy as np\n",
    "import scipy as sp\n",
    "import scipy.optimize\n",
    "from scipy.stats import hypergeom, binom, norm\n",
    "from scipy import special\n",
    "from cryptorandom.cryptorandom import SHA256\n",
    "from cryptorandom import sample\n",
    "from permute.utils import binom_conf_interval\n",
    "import matplotlib.pyplot as plt\n",
    "import pandas as pd\n",
    "from lxml import etree\n",
    "import csv\n",
    "\n",
    "elec_fn = '../../Data/detail.xml'"
   ]
  },
  {
   "cell_type": "code",
   "execution_count": 2,
   "metadata": {},
   "outputs": [],
   "source": [
    "elec = etree.parse(elec_fn)"
   ]
  },
  {
   "cell_type": "code",
   "execution_count": 3,
   "metadata": {},
   "outputs": [],
   "source": [
    "e_root = elec.getroot()"
   ]
  },
  {
   "cell_type": "markdown",
   "metadata": {},
   "source": [
    "Example record:\n",
    "\n",
    "  <ElectionResult>\n",
    "    <Timestamp>11/9/2018 8:13:23 PM EST</Timestamp>\n",
    "    <ElectionName>November 6, 2018 - General Election</ElectionName>    \n",
    "    <ElectionDate>11/6/2018</ElectionDate>    \n",
    "    <Region>Richmond</Region>    \n",
    "    \n",
    "    <VoterTurnout ballotsCast=\"70355\" totalVoters=\"122747\" voterTurnout=\"57.32\">\n",
    "      <Precincts>            \n",
    "        <Precinct ballotsCast=\"536\" name=\"101\" percentReporting=\"4\" totalVoters=\"830\" voterTurnout=\"64.58\"/>\n",
    "      </Precincts>    \n",
    "    </VoterTurnout>\n",
    "\n",
    "<Contest isQuestion=\"false\" key=\"7\" precinctsReported=\"68\" precinctsReporting=\"68\" text=\"Governor\">  \n",
    "        \n",
    "    <VoteType name=\"Number of Precincts for Race\" votes=\"68\">\n",
    "    \n",
    "    <Choice key=\"40\" text=\"BRIAN KEMP  (REP)\" totalVotes=\"22075\">\n",
    "                    \n",
    "        <VoteType name=\"Election Day\" votes=\"13178\">\n",
    "           <Precinct name=\"101\" votes=\"160\"/>                      \n",
    "        </VoteType>\n",
    "             \n",
    "        <VoteType name=\"Absentee By Mail\" votes=\"1174\">\n",
    "          <Precinct name=\"101\" votes=\"67\"/>                      \n",
    "        </VoteType>\n",
    "                  \n",
    "        <VoteType name=\"Advance in Person\" votes=\"7706\">               \n",
    "          <Precinct name=\"101\" votes=\"67\"/>          \n",
    "        </VoteType>\n",
    "        \n",
    "            \n",
    "        <VoteType name=\"Provisional\" votes=\"17\">     \n",
    "          <Precinct name=\"101\" votes=\"0\"/>\n",
    "        </VoteType>   \n",
    "      </Choice>\n",
    "</Contest>\n"
   ]
  },
  {
   "cell_type": "markdown",
   "metadata": {},
   "source": [
    "<ElectionResult>\n",
    "    <Contest key=\"20000\">\n",
    "        <Choice key=\"40\">\n",
    "            <VoteType name=\"Election Day\" votes=\"\">\n",
    "                <County name=\"\" votes=\"\" />\n",
    "                ...\n",
    "            </VoteType>\n",
    "            <VoteType name=\"Absentee by Mail\" votes=\"\">\n",
    "                <County name=\"\" votes=\"\" />\n",
    "                ...\n",
    "            </VoteType>\n",
    "            <VoteType name=\"Advance in Person\" votes=\"\">\n",
    "                <County name=\"\" votes=\"\" />\n",
    "                ...\n",
    "            </VoteType>\n",
    "        </Choice>\n",
    "    </Contest>\n",
    "</ElectionResult>"
   ]
  },
  {
   "cell_type": "code",
   "execution_count": 4,
   "metadata": {},
   "outputs": [
    {
     "data": {
      "text/plain": [
       "1978408.0"
      ]
     },
     "execution_count": 4,
     "metadata": {},
     "output_type": "execute_result"
    }
   ],
   "source": [
    "# Contest key=20000 is Governor, Choice key=40 is Kemp\n",
    "\n",
    "elec.xpath(\"sum(Contest[@key='20000']/Choice[@key='40']//County/@votes)\")\n",
    "\n",
    "# elec.xpath(\"Contest[@text='Governor']/Choice[@text='BRIAN KEMP  (REP)']//County[@votes]\")\n",
    "# elec.find('//Precinct')"
   ]
  },
  {
   "cell_type": "markdown",
   "metadata": {},
   "source": [
    "# Create a CSV file with total ballots cast in each county\n",
    "\n",
    "Verified matching between CSV, XML, and GA website on 1/4/2019 by KO:\n",
    "* totals for Appling, Atkinson, Bacon, Baker, Baldwin match\n",
    "* total ballots cast statewide 3,949,905 matches"
   ]
  },
  {
   "cell_type": "code",
   "execution_count": 5,
   "metadata": {},
   "outputs": [],
   "source": [
    "totals = elec.xpath(\"ElectionVoterTurnout/Counties/County\")\n",
    "\n",
    "# open a file for writing\n",
    "\n",
    "total_ballots_by_county = open('../../Data/total_ballots_by_county.csv', 'w')\n",
    "total = 0\n",
    "\n",
    "# create the csv writer object\n",
    "\n",
    "csvwriter = csv.writer(total_ballots_by_county)\n",
    "\n",
    "csvwriter.writerow([\"County\", \"Ballots cast\"])\n",
    "for v in totals:\n",
    "    csvwriter.writerow([v.attrib[\"name\"], v.attrib[\"ballotsCast\"]])\n",
    "    total += int(v.attrib[\"ballotsCast\"])\n",
    "\n",
    "# close the file\n",
    "\n",
    "total_ballots_by_county.close()\n",
    "\n",
    "# assert that the total by county, summed, equals the reported total\n",
    "\n",
    "assert total == int(elec.xpath(\"ElectionVoterTurnout/@ballotsCast\")[0])"
   ]
  },
  {
   "cell_type": "markdown",
   "metadata": {},
   "source": [
    "## Create a CSV file with reported votes by county by contest by candidate\n",
    "\n",
    "Verified matching between CSV, XML, and GA website on 1/4/2019:\n",
    "\n",
    "* Votes for Kemp in Bryan county, broken out by vote type, match in CSV and XML. The sum matches the website total 10,507.\n",
    "* Votes for Geoff Duncan (Lt. Gov) in Ware county, broken out by vote type, match in CSV and XML. The sum matches the website total 7,619."
   ]
  },
  {
   "cell_type": "code",
   "execution_count": 6,
   "metadata": {},
   "outputs": [],
   "source": [
    "# open a file for writing\n",
    "\n",
    "votes = open('../../Data/votes_by_candidate_county.csv', 'w')\n",
    "\n",
    "# create the csv writer object\n",
    "\n",
    "csvwriter = csv.writer(votes)\n",
    "csvwriter.writerow([\"Contest\", \"Candidate\", \"Vote type\", \"County\", \"Ballots cast\"])\n",
    "\n",
    "for contest in e_root.iter(\"Contest\"):\n",
    "    contest_name = contest.attrib[\"text\"]\n",
    "    for choice in contest.iter(\"Choice\"):\n",
    "        candidate = choice.attrib[\"text\"]\n",
    "        for votetype in choice.iter(\"VoteType\"):\n",
    "            val = votetype.attrib[\"name\"]\n",
    "            for v in votetype:\n",
    "                csvwriter.writerow([contest_name, candidate, val, v.attrib[\"name\"], v.attrib[\"votes\"]])\n",
    "\n",
    "# close the file\n",
    "\n",
    "votes.close()"
   ]
  },
  {
   "cell_type": "markdown",
   "metadata": {},
   "source": [
    "## Create CSV file with undervotes in the down-ticket statewide contests\n",
    "\n",
    "Undervotes are counted *relative* to the number of ballots cast in the Governor's race. (We have total voter turnout, but it isn't broken out by vote type. Ballots cast for Governor are broken out by vote type.)\n",
    "\n",
    "Checked on 1/4/19:\n",
    "* No negative undervote counts\n",
    "* For each Vote Type in each County, the Total Ballots is the same for every Contest"
   ]
  },
  {
   "cell_type": "code",
   "execution_count": 7,
   "metadata": {},
   "outputs": [],
   "source": [
    "total_ballots_cast = pd.read_csv('../../Data/total_ballots_by_county.csv')\n",
    "reported_votes = pd.read_csv('../../Data/votes_by_candidate_county.csv')"
   ]
  },
  {
   "cell_type": "code",
   "execution_count": 8,
   "metadata": {},
   "outputs": [
    {
     "data": {
      "text/html": [
       "<div>\n",
       "<style scoped>\n",
       "    .dataframe tbody tr th:only-of-type {\n",
       "        vertical-align: middle;\n",
       "    }\n",
       "\n",
       "    .dataframe tbody tr th {\n",
       "        vertical-align: top;\n",
       "    }\n",
       "\n",
       "    .dataframe thead th {\n",
       "        text-align: right;\n",
       "    }\n",
       "</style>\n",
       "<table border=\"1\" class=\"dataframe\">\n",
       "  <thead>\n",
       "    <tr style=\"text-align: right;\">\n",
       "      <th></th>\n",
       "      <th>Contest</th>\n",
       "      <th>Candidate</th>\n",
       "      <th>Vote type</th>\n",
       "      <th>County</th>\n",
       "      <th>Ballots cast</th>\n",
       "    </tr>\n",
       "  </thead>\n",
       "  <tbody>\n",
       "    <tr>\n",
       "      <th>0</th>\n",
       "      <td>Governor</td>\n",
       "      <td>BRIAN KEMP  (REP)</td>\n",
       "      <td>Election Day</td>\n",
       "      <td>Appling</td>\n",
       "      <td>2334</td>\n",
       "    </tr>\n",
       "    <tr>\n",
       "      <th>1</th>\n",
       "      <td>Governor</td>\n",
       "      <td>BRIAN KEMP  (REP)</td>\n",
       "      <td>Election Day</td>\n",
       "      <td>Atkinson</td>\n",
       "      <td>808</td>\n",
       "    </tr>\n",
       "    <tr>\n",
       "      <th>2</th>\n",
       "      <td>Governor</td>\n",
       "      <td>BRIAN KEMP  (REP)</td>\n",
       "      <td>Election Day</td>\n",
       "      <td>Bacon</td>\n",
       "      <td>609</td>\n",
       "    </tr>\n",
       "    <tr>\n",
       "      <th>3</th>\n",
       "      <td>Governor</td>\n",
       "      <td>BRIAN KEMP  (REP)</td>\n",
       "      <td>Election Day</td>\n",
       "      <td>Baker</td>\n",
       "      <td>409</td>\n",
       "    </tr>\n",
       "    <tr>\n",
       "      <th>4</th>\n",
       "      <td>Governor</td>\n",
       "      <td>BRIAN KEMP  (REP)</td>\n",
       "      <td>Election Day</td>\n",
       "      <td>Baldwin</td>\n",
       "      <td>3054</td>\n",
       "    </tr>\n",
       "  </tbody>\n",
       "</table>\n",
       "</div>"
      ],
      "text/plain": [
       "    Contest          Candidate     Vote type    County  Ballots cast\n",
       "0  Governor  BRIAN KEMP  (REP)  Election Day   Appling          2334\n",
       "1  Governor  BRIAN KEMP  (REP)  Election Day  Atkinson           808\n",
       "2  Governor  BRIAN KEMP  (REP)  Election Day     Bacon           609\n",
       "3  Governor  BRIAN KEMP  (REP)  Election Day     Baker           409\n",
       "4  Governor  BRIAN KEMP  (REP)  Election Day   Baldwin          3054"
      ]
     },
     "execution_count": 8,
     "metadata": {},
     "output_type": "execute_result"
    }
   ],
   "source": [
    "reported_votes.head()"
   ]
  },
  {
   "cell_type": "code",
   "execution_count": 9,
   "metadata": {},
   "outputs": [
    {
     "data": {
      "text/html": [
       "<div>\n",
       "<style scoped>\n",
       "    .dataframe tbody tr th:only-of-type {\n",
       "        vertical-align: middle;\n",
       "    }\n",
       "\n",
       "    .dataframe tbody tr th {\n",
       "        vertical-align: top;\n",
       "    }\n",
       "\n",
       "    .dataframe thead th {\n",
       "        text-align: right;\n",
       "    }\n",
       "</style>\n",
       "<table border=\"1\" class=\"dataframe\">\n",
       "  <thead>\n",
       "    <tr style=\"text-align: right;\">\n",
       "      <th></th>\n",
       "      <th>Contest</th>\n",
       "      <th>County</th>\n",
       "      <th>Vote type</th>\n",
       "      <th>Ballots cast</th>\n",
       "    </tr>\n",
       "  </thead>\n",
       "  <tbody>\n",
       "    <tr>\n",
       "      <th>0</th>\n",
       "      <td>Attorney General</td>\n",
       "      <td>Appling</td>\n",
       "      <td>Absentee by Mail</td>\n",
       "      <td>519</td>\n",
       "    </tr>\n",
       "    <tr>\n",
       "      <th>1</th>\n",
       "      <td>Attorney General</td>\n",
       "      <td>Appling</td>\n",
       "      <td>Advance in Person</td>\n",
       "      <td>3180</td>\n",
       "    </tr>\n",
       "    <tr>\n",
       "      <th>2</th>\n",
       "      <td>Attorney General</td>\n",
       "      <td>Appling</td>\n",
       "      <td>Election Day</td>\n",
       "      <td>2860</td>\n",
       "    </tr>\n",
       "    <tr>\n",
       "      <th>3</th>\n",
       "      <td>Attorney General</td>\n",
       "      <td>Appling</td>\n",
       "      <td>Provisional</td>\n",
       "      <td>3</td>\n",
       "    </tr>\n",
       "    <tr>\n",
       "      <th>4</th>\n",
       "      <td>Attorney General</td>\n",
       "      <td>Atkinson</td>\n",
       "      <td>Absentee by Mail</td>\n",
       "      <td>88</td>\n",
       "    </tr>\n",
       "  </tbody>\n",
       "</table>\n",
       "</div>"
      ],
      "text/plain": [
       "            Contest    County          Vote type  Ballots cast\n",
       "0  Attorney General   Appling   Absentee by Mail           519\n",
       "1  Attorney General   Appling  Advance in Person          3180\n",
       "2  Attorney General   Appling       Election Day          2860\n",
       "3  Attorney General   Appling        Provisional             3\n",
       "4  Attorney General  Atkinson   Absentee by Mail            88"
      ]
     },
     "execution_count": 9,
     "metadata": {},
     "output_type": "execute_result"
    }
   ],
   "source": [
    "statewide_contests = np.array([\"Governor\", \"Lieutenant Governor\", \"Secretary Of State\", \\\n",
    "                               \"Attorney General\", \"Commissioner Of Agriculture\", \\\n",
    "                               \"Commissioner Of Insurance\", \"State School Superintendent\", \"Commissioner Of Labor\", \\\n",
    "                               \"Public Service Commission, District 3 - Metro-Atlanta\", \\\n",
    "                               \"Public Service Commission, District 5 - Western\"])\n",
    "reported_votes = reported_votes[reported_votes[\"Contest\"].isin(statewide_contests)]\n",
    "\n",
    "reported_votes_by_contest = reported_votes.groupby([\"Contest\", \"County\", \"Vote type\"])[\"Ballots cast\"].agg(np.sum)\n",
    "reported_votes_by_contest = reported_votes_by_contest.reset_index()\n",
    "reported_votes_by_contest.head()"
   ]
  },
  {
   "cell_type": "code",
   "execution_count": 10,
   "metadata": {},
   "outputs": [
    {
     "data": {
      "text/html": [
       "<div>\n",
       "<style scoped>\n",
       "    .dataframe tbody tr th:only-of-type {\n",
       "        vertical-align: middle;\n",
       "    }\n",
       "\n",
       "    .dataframe tbody tr th {\n",
       "        vertical-align: top;\n",
       "    }\n",
       "\n",
       "    .dataframe thead th {\n",
       "        text-align: right;\n",
       "    }\n",
       "</style>\n",
       "<table border=\"1\" class=\"dataframe\">\n",
       "  <thead>\n",
       "    <tr style=\"text-align: right;\">\n",
       "      <th></th>\n",
       "      <th>County</th>\n",
       "      <th>Vote type</th>\n",
       "      <th>Total ballots</th>\n",
       "    </tr>\n",
       "  </thead>\n",
       "  <tbody>\n",
       "    <tr>\n",
       "      <th>2544</th>\n",
       "      <td>Appling</td>\n",
       "      <td>Absentee by Mail</td>\n",
       "      <td>530</td>\n",
       "    </tr>\n",
       "    <tr>\n",
       "      <th>2545</th>\n",
       "      <td>Appling</td>\n",
       "      <td>Advance in Person</td>\n",
       "      <td>3298</td>\n",
       "    </tr>\n",
       "    <tr>\n",
       "      <th>2546</th>\n",
       "      <td>Appling</td>\n",
       "      <td>Election Day</td>\n",
       "      <td>2978</td>\n",
       "    </tr>\n",
       "    <tr>\n",
       "      <th>2547</th>\n",
       "      <td>Appling</td>\n",
       "      <td>Provisional</td>\n",
       "      <td>3</td>\n",
       "    </tr>\n",
       "    <tr>\n",
       "      <th>2548</th>\n",
       "      <td>Atkinson</td>\n",
       "      <td>Absentee by Mail</td>\n",
       "      <td>88</td>\n",
       "    </tr>\n",
       "  </tbody>\n",
       "</table>\n",
       "</div>"
      ],
      "text/plain": [
       "        County          Vote type  Total ballots\n",
       "2544   Appling   Absentee by Mail            530\n",
       "2545   Appling  Advance in Person           3298\n",
       "2546   Appling       Election Day           2978\n",
       "2547   Appling        Provisional              3\n",
       "2548  Atkinson   Absentee by Mail             88"
      ]
     },
     "execution_count": 10,
     "metadata": {},
     "output_type": "execute_result"
    }
   ],
   "source": [
    "gov_race = reported_votes_by_contest[reported_votes_by_contest[\"Contest\"]==\"Governor\"]\n",
    "gov_race = gov_race.copy()\n",
    "gov_race.rename(columns={'Ballots cast': 'Total ballots'}, inplace=True)\n",
    "gov_race = gov_race.drop(columns=[\"Contest\"])\n",
    "gov_race.head()"
   ]
  },
  {
   "cell_type": "code",
   "execution_count": 11,
   "metadata": {},
   "outputs": [],
   "source": [
    "max_votes_estimated = reported_votes_by_contest.groupby([\"County\", \"Vote type\"]).agg(np.max)\n",
    "max_votes_estimated = max_votes_estimated.drop(columns=[\"Contest\"]).reset_index()\n",
    "max_votes_estimated.rename(columns={'Ballots cast': 'Total ballots'}, inplace=True)"
   ]
  },
  {
   "cell_type": "code",
   "execution_count": 12,
   "metadata": {},
   "outputs": [
    {
     "data": {
      "text/html": [
       "<div>\n",
       "<style scoped>\n",
       "    .dataframe tbody tr th:only-of-type {\n",
       "        vertical-align: middle;\n",
       "    }\n",
       "\n",
       "    .dataframe tbody tr th {\n",
       "        vertical-align: top;\n",
       "    }\n",
       "\n",
       "    .dataframe thead th {\n",
       "        text-align: right;\n",
       "    }\n",
       "</style>\n",
       "<table border=\"1\" class=\"dataframe\">\n",
       "  <thead>\n",
       "    <tr style=\"text-align: right;\">\n",
       "      <th></th>\n",
       "      <th>County</th>\n",
       "      <th>Vote type</th>\n",
       "      <th>Total ballots</th>\n",
       "      <th>Contest</th>\n",
       "      <th>Ballots cast</th>\n",
       "      <th>Undervotes</th>\n",
       "    </tr>\n",
       "  </thead>\n",
       "  <tbody>\n",
       "    <tr>\n",
       "      <th>0</th>\n",
       "      <td>Appling</td>\n",
       "      <td>Absentee by Mail</td>\n",
       "      <td>530</td>\n",
       "      <td>Lieutenant Governor</td>\n",
       "      <td>523</td>\n",
       "      <td>7</td>\n",
       "    </tr>\n",
       "    <tr>\n",
       "      <th>1</th>\n",
       "      <td>Appling</td>\n",
       "      <td>Advance in Person</td>\n",
       "      <td>3298</td>\n",
       "      <td>Lieutenant Governor</td>\n",
       "      <td>3092</td>\n",
       "      <td>206</td>\n",
       "    </tr>\n",
       "    <tr>\n",
       "      <th>2</th>\n",
       "      <td>Appling</td>\n",
       "      <td>Election Day</td>\n",
       "      <td>2978</td>\n",
       "      <td>Lieutenant Governor</td>\n",
       "      <td>2768</td>\n",
       "      <td>210</td>\n",
       "    </tr>\n",
       "    <tr>\n",
       "      <th>3</th>\n",
       "      <td>Appling</td>\n",
       "      <td>Provisional</td>\n",
       "      <td>3</td>\n",
       "      <td>Lieutenant Governor</td>\n",
       "      <td>3</td>\n",
       "      <td>0</td>\n",
       "    </tr>\n",
       "    <tr>\n",
       "      <th>4</th>\n",
       "      <td>Atkinson</td>\n",
       "      <td>Absentee by Mail</td>\n",
       "      <td>88</td>\n",
       "      <td>Lieutenant Governor</td>\n",
       "      <td>88</td>\n",
       "      <td>0</td>\n",
       "    </tr>\n",
       "  </tbody>\n",
       "</table>\n",
       "</div>"
      ],
      "text/plain": [
       "     County          Vote type  Total ballots              Contest  \\\n",
       "0   Appling   Absentee by Mail            530  Lieutenant Governor   \n",
       "1   Appling  Advance in Person           3298  Lieutenant Governor   \n",
       "2   Appling       Election Day           2978  Lieutenant Governor   \n",
       "3   Appling        Provisional              3  Lieutenant Governor   \n",
       "4  Atkinson   Absentee by Mail             88  Lieutenant Governor   \n",
       "\n",
       "   Ballots cast  Undervotes  \n",
       "0           523           7  \n",
       "1          3092         206  \n",
       "2          2768         210  \n",
       "3             3           0  \n",
       "4            88           0  "
      ]
     },
     "execution_count": 12,
     "metadata": {},
     "output_type": "execute_result"
    }
   ],
   "source": [
    "merged_votes = pd.DataFrame()\n",
    "for contest in statewide_contests[1:]:\n",
    "    this_race = reported_votes_by_contest[\"Contest\"]==contest\n",
    "    merged_votes_contest = pd.merge(max_votes_estimated, reported_votes_by_contest[this_race])\n",
    "    merged_votes_contest[\"Undervotes\"] = merged_votes_contest[\"Total ballots\"] - merged_votes_contest[\"Ballots cast\"]\n",
    "    merged_votes = pd.concat([merged_votes, merged_votes_contest])\n",
    "    \n",
    "merged_votes.head()"
   ]
  },
  {
   "cell_type": "code",
   "execution_count": 13,
   "metadata": {},
   "outputs": [],
   "source": [
    "merged_votes.to_csv('../../Data/undervotes_by_county.csv', index=False)"
   ]
  },
  {
   "cell_type": "code",
   "execution_count": 14,
   "metadata": {},
   "outputs": [
    {
     "name": "stdout",
     "output_type": "stream",
     "text": [
      "Loading extensions from ~/.ipython/extensions is deprecated. We recommend managing extensions like any other Python packages, in site-packages.\n"
     ]
    },
    {
     "name": "stderr",
     "output_type": "stream",
     "text": [
      "/anaconda/lib/python3.6/site-packages/IPython/core/formatters.py:839: FormatterWarning: JSON expects JSONable list/dict containers, not JSON strings\n",
      "  FormatterWarning)\n"
     ]
    },
    {
     "data": {
      "application/json": {
       "Software versions": [
        {
         "module": "Python",
         "version": "3.6.7 64bit [GCC 4.2.1 Compatible Clang 4.0.1 (tags/RELEASE_401/final)]"
        },
        {
         "module": "IPython",
         "version": "7.2.0"
        },
        {
         "module": "OS",
         "version": "Darwin 18.2.0 x86_64 i386 64bit"
        },
        {
         "module": "scipy",
         "version": "1.1.0"
        },
        {
         "module": "numpy",
         "version": "1.15.4"
        },
        {
         "module": "csv",
         "version": "1.0"
        },
        {
         "module": "pandas",
         "version": "0.23.1"
        },
        {
         "module": "matplotlib",
         "version": "3.0.2"
        },
        {
         "module": "notebook",
         "version": "5.7.4"
        },
        {
         "module": "cryptorandom",
         "version": "0.2"
        },
        {
         "module": "permute",
         "version": "0.1.alpha4"
        }
       ]
      },
      "text/html": [
       "<table><tr><th>Software</th><th>Version</th></tr><tr><td>Python</td><td>3.6.7 64bit [GCC 4.2.1 Compatible Clang 4.0.1 (tags/RELEASE_401/final)]</td></tr><tr><td>IPython</td><td>7.2.0</td></tr><tr><td>OS</td><td>Darwin 18.2.0 x86_64 i386 64bit</td></tr><tr><td>scipy</td><td>1.1.0</td></tr><tr><td>numpy</td><td>1.15.4</td></tr><tr><td>csv</td><td>1.0</td></tr><tr><td>pandas</td><td>0.23.1</td></tr><tr><td>matplotlib</td><td>3.0.2</td></tr><tr><td>notebook</td><td>5.7.4</td></tr><tr><td>cryptorandom</td><td>0.2</td></tr><tr><td>permute</td><td>0.1.alpha4</td></tr><tr><td colspan='2'>Sun Jan 06 13:57:02 2019 PST</td></tr></table>"
      ],
      "text/latex": [
       "\\begin{tabular}{|l|l|}\\hline\n",
       "{\\bf Software} & {\\bf Version} \\\\ \\hline\\hline\n",
       "Python & 3.6.7 64bit [GCC 4.2.1 Compatible Clang 4.0.1 (tags/RELEASE\\letterunderscore{}401/final)] \\\\ \\hline\n",
       "IPython & 7.2.0 \\\\ \\hline\n",
       "OS & Darwin 18.2.0 x86\\letterunderscore{}64 i386 64bit \\\\ \\hline\n",
       "scipy & 1.1.0 \\\\ \\hline\n",
       "numpy & 1.15.4 \\\\ \\hline\n",
       "csv & 1.0 \\\\ \\hline\n",
       "pandas & 0.23.1 \\\\ \\hline\n",
       "matplotlib & 3.0.2 \\\\ \\hline\n",
       "notebook & 5.7.4 \\\\ \\hline\n",
       "cryptorandom & 0.2 \\\\ \\hline\n",
       "permute & 0.1.alpha4 \\\\ \\hline\n",
       "\\hline \\multicolumn{2}{|l|}{Sun Jan 06 13:57:02 2019 PST} \\\\ \\hline\n",
       "\\end{tabular}\n"
      ],
      "text/plain": [
       "Software versions\n",
       "Python 3.6.7 64bit [GCC 4.2.1 Compatible Clang 4.0.1 (tags/RELEASE_401/final)]\n",
       "IPython 7.2.0\n",
       "OS Darwin 18.2.0 x86_64 i386 64bit\n",
       "scipy 1.1.0\n",
       "numpy 1.15.4\n",
       "csv 1.0\n",
       "pandas 0.23.1\n",
       "matplotlib 3.0.2\n",
       "notebook 5.7.4\n",
       "cryptorandom 0.2\n",
       "permute 0.1.alpha4\n",
       "Sun Jan 06 13:57:02 2019 PST"
      ]
     },
     "execution_count": 14,
     "metadata": {},
     "output_type": "execute_result"
    }
   ],
   "source": [
    "# version information\n",
    "%load_ext version_information\n",
    "%version_information scipy, numpy, csv, pandas, matplotlib, notebook, cryptorandom, permute"
   ]
  }
 ],
 "metadata": {
  "kernelspec": {
   "display_name": "Python 3",
   "language": "python",
   "name": "python3"
  },
  "language_info": {
   "codemirror_mode": {
    "name": "ipython",
    "version": 3
   },
   "file_extension": ".py",
   "mimetype": "text/x-python",
   "name": "python",
   "nbconvert_exporter": "python",
   "pygments_lexer": "ipython3",
   "version": "3.7.1"
  }
 },
 "nbformat": 4,
 "nbformat_minor": 2
}
